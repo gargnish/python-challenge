{
 "cells": [
  {
   "cell_type": "code",
   "execution_count": 2,
   "metadata": {
    "collapsed": true
   },
   "outputs": [],
   "source": [
    "import time\n",
    "from splinter import Browser\n",
    "from bs4 import BeautifulSoup as bs\n",
    "import pandas as pd\n",
    "from selenium import webdriver\n"
   ]
  },
  {
   "cell_type": "code",
   "execution_count": 3,
   "metadata": {
    "collapsed": true
   },
   "outputs": [],
   "source": [
    "def fx_init_browser():\n",
    "    executable_path = {\"executable_path\": \"chromedriver.exe\"}\n",
    "    browser = Browser(\"chrome\", **executable_path, headless=True)\n",
    "    return browser"
   ]
  },
  {
   "cell_type": "code",
   "execution_count": 4,
   "metadata": {
    "collapsed": true
   },
   "outputs": [],
   "source": [
    "def fx_scrape_news():\n",
    "    \"\"\"\n",
    "    output:\n",
    "    {'description': 'On May 5, millions of Californians may witness the historic first interplanetary launch from America’s West Coast.',\n",
    "     'list_date': 'April  6, 2018',\n",
    "     'title': 'Bound for Mars: Countdown to First Interplanetary Launch from California'}\n",
    "    \"\"\"\n",
    "    url = \"https://mars.nasa.gov/news/?page=0&per_page=40&order=publish_date+desc%2Ccreated_at+desc&search=&category=19%2C165%2C184%2C204&blank_scope=Latest\"\n",
    "    browser = fx_init_browser()\n",
    "    browser.visit(url)\n",
    "    html = browser.html\n",
    "    time.sleep(1)\n",
    "    soup = bs(html, \"html.parser\")\n",
    "    v_data_dict = {}\n",
    "    list_text = soup.find_all('div', {'class': 'list_text'})[0]\n",
    "    v_latest_list_date = list_text.find_all('div', {'class': 'list_date'})[0].get_text()\n",
    "    v_latest_title = list_text.find_all('a', {'target': '_self'})[0].get_text()\n",
    "    v_latest_description = list_text.find_all('div', {'class': 'article_teaser_body'})[0].get_text()\n",
    "\n",
    "    v_data_dict = {\"list_date\" : v_latest_list_date ,\"title\" : v_latest_title ,\"description\" : v_latest_description  }\n",
    "    global v_scrape_news\n",
    "    v_scrape_news = v_data_dict\n",
    "    return v_scrape_news\n",
    "    "
   ]
  },
  {
   "cell_type": "code",
   "execution_count": 5,
   "metadata": {
    "collapsed": true
   },
   "outputs": [],
   "source": [
    "def fx_scrape_weather():\n",
    "    \"\"\"\n",
    "    output = \n",
    "    'Sol 2019 (April 11, 2018), Sunny, high -6C/21F, low -75C/-103F, pressure at 7.18 hPa, daylight 05:27-17:21'\n",
    "    \"\"\"\n",
    "    url = \"https://twitter.com/marswxreport?lang=en\"\n",
    "    browser = fx_init_browser()\n",
    "    browser.visit(url)\n",
    "    time.sleep(1)\n",
    "    html = browser.html\n",
    "    soup = bs(html, \"html.parser\")  \n",
    "    v_weather_list = [ x.get_text().strip() for x in soup.find_all('div', {'class': 'js-tweet-text-container'}) \n",
    "      if 'Sol'== x.get_text().strip().split(' ')[0] \n",
    "     ]\n",
    "    v_weather_text = v_weather_list[0]\n",
    "    global v_scrape_weather\n",
    "    v_scrape_weather = v_weather_text\n",
    "    return v_scrape_weather\n",
    "    "
   ]
  },
  {
   "cell_type": "code",
   "execution_count": 6,
   "metadata": {
    "collapsed": true
   },
   "outputs": [],
   "source": [
    "def fx_scrape_fact():\n",
    "    \"\"\"\n",
    "    output:\n",
    "    [{'Equatorial Diameter:': '6,792 km'},\n",
    "     {'Polar Diameter:': '6,752 km'},\n",
    "     {'Mass:': '6.42 x 10^23 kg (10.7% Earth)'},\n",
    "     {'Moons:': '2 (Phobos & Deimos)'},\n",
    "     {'Orbit Distance:': '227,943,824 km (1.52 AU)'},\n",
    "     {'Orbit Period:': '687 days (1.9 years)'},\n",
    "     {'Surface Temperature:': '-153 to 20 °C'},\n",
    "     {'First Record:': '2nd millennium BC'},\n",
    "     {'Recorded By:': 'Egyptian astronomers'}]\n",
    "    \"\"\"\n",
    "    url = \"https://space-facts.com/mars/\"\n",
    "    v_table = pd.read_html(url)\n",
    "    df_fact =v_table[0]\n",
    "    v_list_of_dict = [ {r[0]: r[1]} for i,r in df_fact.iterrows() ]\n",
    "    global v_scrape_fact\n",
    "    v_scrape_fact = v_list_of_dict\n",
    "    return v_scrape_fact"
   ]
  },
  {
   "cell_type": "code",
   "execution_count": 7,
   "metadata": {
    "collapsed": true
   },
   "outputs": [],
   "source": [
    "def fx_scrape_hemisphere():\n",
    "    \"\"\"\n",
    "    output example: \n",
    "    [{'Equatorial Diameter:': '6,792 km'},\n",
    "     {'Polar Diameter:': '6,752 km'},\n",
    "     {'Mass:': '6.42 x 10^23 kg (10.7% Earth)'},\n",
    "     {'Moons:': '2 (Phobos & Deimos)'},\n",
    "     {'Orbit Distance:': '227,943,824 km (1.52 AU)'},\n",
    "     {'Orbit Period:': '687 days (1.9 years)'},\n",
    "     {'Surface Temperature:': '-153 to 20 °C'},\n",
    "     {'First Record:': '2nd millennium BC'},\n",
    "     {'Recorded By:': 'Egyptian astronomers'}]\n",
    "    \"\"\"\n",
    "    url = \"https://astrogeology.usgs.gov/search/results?q=hemisphere+enhanced&k1=target&v1=Mars\"\n",
    "    browser = fx_init_browser()\n",
    "    browser.visit(url)\n",
    "    time.sleep(1)\n",
    "    html = browser.html\n",
    "    soup = bs(html, \"html.parser\")\n",
    "    v_list_hemi = soup.find_all('div', {'class': 'item'})\n",
    "    v_all_hemi_list_of_dict =[]\n",
    "    for list_hemi in v_list_hemi:\n",
    "        v_data_dict = {}\n",
    "        v_hemi_name = list_hemi.find_all('h3')[0].get_text()\n",
    "        v_hemi_image_ref_suffix=list_hemi.find_all('a', {'class': 'itemLink product-item'})[0].get('href')\n",
    "        v_hemi_image_ref= 'https://astrogeology.usgs.gov'+v_hemi_image_ref_suffix\n",
    "        url = v_hemi_image_ref\n",
    "        browser = fx_init_browser()\n",
    "        browser.visit(url)\n",
    "        time.sleep(1)\n",
    "        html = browser.html\n",
    "        soup = bs(html, \"html.parser\")   \n",
    "        v_download_hemi_container = soup.find_all('div', {'class': 'downloads'})[0]\n",
    "        v_download_hemi_list = v_download_hemi_container.find_all('a', {'target': '_blank'})\n",
    "        v_hemi_image_url_list = [ x.get('href') for x in v_download_hemi_list if x.get_text() =='Sample']\n",
    "        v_hemi_image_url = v_hemi_image_url_list[0]\n",
    "        v_data_dict = {'name' : v_hemi_name , 'image_url' : v_hemi_image_url}\n",
    "        v_all_hemi_list_of_dict.append(v_data_dict)\n",
    "    global v_scrape_hemisphere\n",
    "    v_scrape_hemisphere = v_all_hemi_list_of_dict\n",
    "    return v_scrape_hemisphere\n",
    "    "
   ]
  },
  {
   "cell_type": "code",
   "execution_count": 8,
   "metadata": {},
   "outputs": [
    {
     "data": {
      "text/plain": [
       "[{'image_url': 'http://astropedia.astrogeology.usgs.gov/download/Mars/Viking/cerberus_enhanced.tif/full.jpg',\n",
       "  'name': 'Cerberus Hemisphere Enhanced'},\n",
       " {'image_url': 'http://astropedia.astrogeology.usgs.gov/download/Mars/Viking/schiaparelli_enhanced.tif/full.jpg',\n",
       "  'name': 'Schiaparelli Hemisphere Enhanced'},\n",
       " {'image_url': 'http://astropedia.astrogeology.usgs.gov/download/Mars/Viking/syrtis_major_enhanced.tif/full.jpg',\n",
       "  'name': 'Syrtis Major Hemisphere Enhanced'},\n",
       " {'image_url': 'http://astropedia.astrogeology.usgs.gov/download/Mars/Viking/valles_marineris_enhanced.tif/full.jpg',\n",
       "  'name': 'Valles Marineris Hemisphere Enhanced'}]"
      ]
     },
     "execution_count": 8,
     "metadata": {},
     "output_type": "execute_result"
    }
   ],
   "source": [
    "x = fx_scrape_hemisphere()\n",
    "x"
   ]
  },
  {
   "cell_type": "code",
   "execution_count": 9,
   "metadata": {
    "collapsed": true
   },
   "outputs": [],
   "source": [
    "def fx_scrape_image_url():\n",
    "    \"\"\"\n",
    "    output example: \n",
    "    'https://photojournal.jpl.nasa.gov/jpeg/PIA17832.jpg'\n",
    "    \"\"\"\n",
    "    url = \"https://www.jpl.nasa.gov/spaceimages/?search=&category=Mars\"\n",
    "    browser = fx_init_browser()\n",
    "    browser.visit(url)\n",
    "    time.sleep(1)\n",
    "    html = browser.html\n",
    "    soup = bs(html, \"html.parser\")  \n",
    "\n",
    "    v_image_take1 = [ x for x in soup.find_all('a', {'class': 'button fancybox'}) ][0]\n",
    "    v_image_take1_url_suffix = v_image_take1['data-link']\n",
    "    #sample https://www.jpl.nasa.gov/spaceimages/details.php?id=PIA17832\n",
    "    \n",
    "    url = 'https://www.jpl.nasa.gov'+v_image_take1_url_suffix\n",
    "    browser = fx_init_browser()\n",
    "    browser.visit(url)\n",
    "    time.sleep(1)\n",
    "    html = browser.html\n",
    "    soup = bs(html, \"html.parser\")  \n",
    "    v_image_take2 = soup.find_all('div', {'class': 'download_tiff'})\n",
    "    v_image_take2_url_suffix = [ x.find_all('a')[0].get('href') for x in v_image_take2 if 'JPG:' in x.get_text().split(' ')]\n",
    "    v_image_high_res_url = 'https:' + v_image_take2_url_suffix[0]\n",
    "    global v_scrape_image_url\n",
    "    v_scrape_image_url = v_image_high_res_url\n",
    "    return v_scrape_image_url"
   ]
  },
  {
   "cell_type": "code",
   "execution_count": 10,
   "metadata": {},
   "outputs": [
    {
     "data": {
      "text/plain": [
       "'https://photojournal.jpl.nasa.gov/jpeg/PIA18906.jpg'"
      ]
     },
     "execution_count": 10,
     "metadata": {},
     "output_type": "execute_result"
    }
   ],
   "source": [
    "x = fx_scrape_image_url()\n",
    "x\n",
    "# #20 sec"
   ]
  },
  {
   "cell_type": "code",
   "execution_count": 11,
   "metadata": {
    "collapsed": true
   },
   "outputs": [],
   "source": [
    "# x=fx_scrape_news()\n",
    "# x\n",
    "# #15"
   ]
  },
  {
   "cell_type": "code",
   "execution_count": 12,
   "metadata": {
    "collapsed": true
   },
   "outputs": [],
   "source": [
    "# x=fx_scrape_weather()\n",
    "# x\n",
    "# #17"
   ]
  },
  {
   "cell_type": "code",
   "execution_count": 13,
   "metadata": {
    "collapsed": true
   },
   "outputs": [],
   "source": [
    "# x=fx_scrape_fact()\n",
    "# x\n",
    "# #2"
   ]
  },
  {
   "cell_type": "code",
   "execution_count": 14,
   "metadata": {
    "collapsed": true
   },
   "outputs": [],
   "source": [
    "# x=fx_scrape_hemisphere()\n",
    "# x\n",
    "# #57"
   ]
  },
  {
   "cell_type": "code",
   "execution_count": 15,
   "metadata": {
    "collapsed": true
   },
   "outputs": [],
   "source": [
    "from threading import Thread as th\n",
    "\n",
    "# using threading to run them in parallel\n",
    "\n",
    "def fx_use_multithreading(*fx):\n",
    "    \"\"\"\n",
    "    x = fx_use_multithreading(fx1,fx2)\n",
    "    \"\"\"\n",
    "    max_thread = 5\n",
    "    complete_thread_call_list = []\n",
    "    Queue_thread_call_list = []\n",
    "    cnt = 0\n",
    "    for v_fx in fx:\n",
    "        cnt += 1\n",
    "        thread_name = 'master_thread_execution.' + str(cnt) +'.'+ str(v_fx)\n",
    "        thread_call = th(name=thread_name,  target=v_fx)\n",
    "        complete_thread_call_list.append(thread_call)\n",
    "    cnt = 0\n",
    "\n",
    "    if max_thread > len(complete_thread_call_list):\n",
    "        max_thread = len(complete_thread_call_list)\n",
    "\n",
    "    for x in complete_thread_call_list:\n",
    "        next_run = True\n",
    "        cnt += 1\n",
    "        Queue_thread_call_list.append(x)\n",
    "        if ((len(Queue_thread_call_list) < max_thread) and (cnt < len(complete_thread_call_list)) ) :\n",
    "            next_run = False\n",
    "\n",
    "        if next_run == True:\n",
    "            for t in Queue_thread_call_list:\n",
    "                t.start()\n",
    "            for t in Queue_thread_call_list:\n",
    "                t.join()\n",
    "            del Queue_thread_call_list[:]\n",
    "\n"
   ]
  },
  {
   "cell_type": "code",
   "execution_count": 16,
   "metadata": {
    "collapsed": true
   },
   "outputs": [],
   "source": [
    "import datetime as dt\n",
    "import pymongo\n",
    "conn = 'mongodb://127.0.0.1:27017'\n",
    "client = pymongo.MongoClient(conn)\n",
    "db = client.mars\n",
    "\n",
    "def fx_scrape():\n",
    "    fx_use_multithreading(fx_scrape_news,fx_scrape_weather,fx_scrape_fact,fx_scrape_hemisphere,fx_scrape_image_url)\n",
    "    v_document_dict = { 'list_time' : dt.datetime.utcnow(),\n",
    "                       'news' : v_scrape_news,\n",
    "                      'weather' : v_scrape_weather,\n",
    "                      'fact' : v_scrape_fact,\n",
    "                      'hemisphere' : v_scrape_hemisphere,\n",
    "                      'image_url' : v_scrape_image_url }\n",
    "    db.mars_log.insert_one(v_document_dict)\n",
    "    return v_document_dict"
   ]
  },
  {
   "cell_type": "code",
   "execution_count": 17,
   "metadata": {},
   "outputs": [
    {
     "data": {
      "text/plain": [
       "{'_id': ObjectId('5ada6479e7191b3a00d2c807'),\n",
       " 'fact': [{'Equatorial Diameter:': '6,792 km'},\n",
       "  {'Polar Diameter:': '6,752 km'},\n",
       "  {'Mass:': '6.42 x 10^23 kg (10.7% Earth)'},\n",
       "  {'Moons:': '2 (Phobos & Deimos)'},\n",
       "  {'Orbit Distance:': '227,943,824 km (1.52 AU)'},\n",
       "  {'Orbit Period:': '687 days (1.9 years)'},\n",
       "  {'Surface Temperature:': '-153 to 20 °C'},\n",
       "  {'First Record:': '2nd millennium BC'},\n",
       "  {'Recorded By:': 'Egyptian astronomers'}],\n",
       " 'hemisphere': [{'image_url': 'http://astropedia.astrogeology.usgs.gov/download/Mars/Viking/cerberus_enhanced.tif/full.jpg',\n",
       "   'name': 'Cerberus Hemisphere Enhanced'},\n",
       "  {'image_url': 'http://astropedia.astrogeology.usgs.gov/download/Mars/Viking/schiaparelli_enhanced.tif/full.jpg',\n",
       "   'name': 'Schiaparelli Hemisphere Enhanced'},\n",
       "  {'image_url': 'http://astropedia.astrogeology.usgs.gov/download/Mars/Viking/syrtis_major_enhanced.tif/full.jpg',\n",
       "   'name': 'Syrtis Major Hemisphere Enhanced'},\n",
       "  {'image_url': 'http://astropedia.astrogeology.usgs.gov/download/Mars/Viking/valles_marineris_enhanced.tif/full.jpg',\n",
       "   'name': 'Valles Marineris Hemisphere Enhanced'}],\n",
       " 'image_url': 'https://photojournal.jpl.nasa.gov/jpeg/PIA18906.jpg',\n",
       " 'list_time': datetime.datetime(2018, 4, 20, 22, 6, 49, 919349),\n",
       " 'news': {'description': 'The first CubeSat mission to deep space will launch in May.',\n",
       "  'list_date': 'April 19, 2018',\n",
       "  'title': 'NASA Engineers Dream Big with Small Spacecraft'},\n",
       " 'weather': 'Sol 2024 (April 16, 2018), Sunny, high -7C/19F, low -76C/-104F, pressure at 7.20 hPa, daylight 05:26-17:21'}"
      ]
     },
     "execution_count": 17,
     "metadata": {},
     "output_type": "execute_result"
    }
   ],
   "source": [
    "xxx = fx_scrape()\n",
    "xxx"
   ]
  },
  {
   "cell_type": "code",
   "execution_count": 18,
   "metadata": {
    "scrolled": true
   },
   "outputs": [
    {
     "data": {
      "text/plain": [
       "{'description': 'The first CubeSat mission to deep space will launch in May.',\n",
       " 'list_date': 'April 19, 2018',\n",
       " 'title': 'NASA Engineers Dream Big with Small Spacecraft'}"
      ]
     },
     "execution_count": 18,
     "metadata": {},
     "output_type": "execute_result"
    }
   ],
   "source": [
    "v_scrape_news\n"
   ]
  },
  {
   "cell_type": "code",
   "execution_count": 19,
   "metadata": {},
   "outputs": [
    {
     "data": {
      "text/plain": [
       "'Sol 2024 (April 16, 2018), Sunny, high -7C/19F, low -76C/-104F, pressure at 7.20 hPa, daylight 05:26-17:21'"
      ]
     },
     "execution_count": 19,
     "metadata": {},
     "output_type": "execute_result"
    }
   ],
   "source": [
    "v_scrape_weather\n"
   ]
  },
  {
   "cell_type": "code",
   "execution_count": 20,
   "metadata": {},
   "outputs": [
    {
     "data": {
      "text/plain": [
       "[{'Equatorial Diameter:': '6,792 km'},\n",
       " {'Polar Diameter:': '6,752 km'},\n",
       " {'Mass:': '6.42 x 10^23 kg (10.7% Earth)'},\n",
       " {'Moons:': '2 (Phobos & Deimos)'},\n",
       " {'Orbit Distance:': '227,943,824 km (1.52 AU)'},\n",
       " {'Orbit Period:': '687 days (1.9 years)'},\n",
       " {'Surface Temperature:': '-153 to 20 °C'},\n",
       " {'First Record:': '2nd millennium BC'},\n",
       " {'Recorded By:': 'Egyptian astronomers'}]"
      ]
     },
     "execution_count": 20,
     "metadata": {},
     "output_type": "execute_result"
    }
   ],
   "source": [
    "v_scrape_fact\n"
   ]
  },
  {
   "cell_type": "code",
   "execution_count": 21,
   "metadata": {},
   "outputs": [
    {
     "data": {
      "text/plain": [
       "[{'image_url': 'http://astropedia.astrogeology.usgs.gov/download/Mars/Viking/cerberus_enhanced.tif/full.jpg',\n",
       "  'name': 'Cerberus Hemisphere Enhanced'},\n",
       " {'image_url': 'http://astropedia.astrogeology.usgs.gov/download/Mars/Viking/schiaparelli_enhanced.tif/full.jpg',\n",
       "  'name': 'Schiaparelli Hemisphere Enhanced'},\n",
       " {'image_url': 'http://astropedia.astrogeology.usgs.gov/download/Mars/Viking/syrtis_major_enhanced.tif/full.jpg',\n",
       "  'name': 'Syrtis Major Hemisphere Enhanced'},\n",
       " {'image_url': 'http://astropedia.astrogeology.usgs.gov/download/Mars/Viking/valles_marineris_enhanced.tif/full.jpg',\n",
       "  'name': 'Valles Marineris Hemisphere Enhanced'}]"
      ]
     },
     "execution_count": 21,
     "metadata": {},
     "output_type": "execute_result"
    }
   ],
   "source": [
    "v_scrape_hemisphere"
   ]
  },
  {
   "cell_type": "code",
   "execution_count": 22,
   "metadata": {},
   "outputs": [
    {
     "data": {
      "text/plain": [
       "'https://photojournal.jpl.nasa.gov/jpeg/PIA18906.jpg'"
      ]
     },
     "execution_count": 22,
     "metadata": {},
     "output_type": "execute_result"
    }
   ],
   "source": [
    "v_scrape_image_url"
   ]
  },
  {
   "cell_type": "code",
   "execution_count": 23,
   "metadata": {
    "collapsed": true
   },
   "outputs": [],
   "source": [
    "import datetime as dt\n",
    "from bson import ObjectId\n",
    "import pymongo\n",
    "conn = 'mongodb://127.0.0.1:27017'\n",
    "client = pymongo.MongoClient(conn)\n",
    "db = client.mars\n",
    "\n",
    "\n",
    "def fx_fetch_latest_time_list(v_limit):\n",
    "    cursor_t1 = db.mars_log.find({ }, {  'list_time': 1 } ).sort([(\"list_time\", pymongo.DESCENDING)]).limit(v_limit)\n",
    "    list_t1 = [ {'_id' : x['_id'] ,'list_time' : dt.datetime.strftime(x['list_time'], '%Y-%m-%d %H:%M:%S') } for x in list(cursor_t1)]\n",
    "    v_latest_document_list_of_dict = list_t1\n",
    "    return v_latest_document_list_of_dict\n",
    "\n",
    "def fx_fetch_doc(v_id):\n",
    "    cursor_t1 = db.mars_log.find({'_id' : v_id})\n",
    "    dict_t1 = list(cursor_t1)\n",
    "    v_document_dict = dict_t1[0]\n",
    "    return v_document_dict\n",
    "\n"
   ]
  },
  {
   "cell_type": "code",
   "execution_count": 24,
   "metadata": {},
   "outputs": [
    {
     "data": {
      "text/plain": [
       "[{'_id': ObjectId('5ada6479e7191b3a00d2c807'),\n",
       "  'list_time': '2018-04-20 22:06:49'},\n",
       " {'_id': ObjectId('5ad6c84be7191b6ee014e8ef'),\n",
       "  'list_time': '2018-04-18 04:23:39'},\n",
       " {'_id': ObjectId('5ad6c6a4e7191b2528b20940'),\n",
       "  'list_time': '2018-04-18 04:16:36'},\n",
       " {'_id': ObjectId('5ad6c4b4e7191b6ee014e8ee'),\n",
       "  'list_time': '2018-04-18 04:08:20'},\n",
       " {'_id': ObjectId('5ad6be99e7191b4fc0fbaa49'),\n",
       "  'list_time': '2018-04-18 03:42:17'}]"
      ]
     },
     "execution_count": 24,
     "metadata": {},
     "output_type": "execute_result"
    }
   ],
   "source": [
    "#below section is just for testing \n",
    "\n",
    "x= fx_fetch_latest_time_list(5)\n",
    "x"
   ]
  },
  {
   "cell_type": "code",
   "execution_count": 25,
   "metadata": {},
   "outputs": [
    {
     "data": {
      "text/plain": [
       "{'_id': ObjectId('5ada6479e7191b3a00d2c807'),\n",
       " 'fact': [{'Equatorial Diameter:': '6,792 km'},\n",
       "  {'Polar Diameter:': '6,752 km'},\n",
       "  {'Mass:': '6.42 x 10^23 kg (10.7% Earth)'},\n",
       "  {'Moons:': '2 (Phobos & Deimos)'},\n",
       "  {'Orbit Distance:': '227,943,824 km (1.52 AU)'},\n",
       "  {'Orbit Period:': '687 days (1.9 years)'},\n",
       "  {'Surface Temperature:': '-153 to 20 °C'},\n",
       "  {'First Record:': '2nd millennium BC'},\n",
       "  {'Recorded By:': 'Egyptian astronomers'}],\n",
       " 'hemisphere': [{'image_url': 'http://astropedia.astrogeology.usgs.gov/download/Mars/Viking/cerberus_enhanced.tif/full.jpg',\n",
       "   'name': 'Cerberus Hemisphere Enhanced'},\n",
       "  {'image_url': 'http://astropedia.astrogeology.usgs.gov/download/Mars/Viking/schiaparelli_enhanced.tif/full.jpg',\n",
       "   'name': 'Schiaparelli Hemisphere Enhanced'},\n",
       "  {'image_url': 'http://astropedia.astrogeology.usgs.gov/download/Mars/Viking/syrtis_major_enhanced.tif/full.jpg',\n",
       "   'name': 'Syrtis Major Hemisphere Enhanced'},\n",
       "  {'image_url': 'http://astropedia.astrogeology.usgs.gov/download/Mars/Viking/valles_marineris_enhanced.tif/full.jpg',\n",
       "   'name': 'Valles Marineris Hemisphere Enhanced'}],\n",
       " 'image_url': 'https://photojournal.jpl.nasa.gov/jpeg/PIA18906.jpg',\n",
       " 'list_time': datetime.datetime(2018, 4, 20, 22, 6, 49, 919000),\n",
       " 'news': {'description': 'The first CubeSat mission to deep space will launch in May.',\n",
       "  'list_date': 'April 19, 2018',\n",
       "  'title': 'NASA Engineers Dream Big with Small Spacecraft'},\n",
       " 'weather': 'Sol 2024 (April 16, 2018), Sunny, high -7C/19F, low -76C/-104F, pressure at 7.20 hPa, daylight 05:26-17:21'}"
      ]
     },
     "execution_count": 25,
     "metadata": {},
     "output_type": "execute_result"
    }
   ],
   "source": [
    "v_latest_doc= fx_fetch_latest_time_list(1)\n",
    "v_latest_id = v_latest_doc[0]['_id']\n",
    "x= fx_fetch_doc(v_latest_id)\n",
    "x"
   ]
  },
  {
   "cell_type": "code",
   "execution_count": 26,
   "metadata": {},
   "outputs": [
    {
     "data": {
      "text/plain": [
       "{'_id': ObjectId('5ad67cb3e7191b637c3992c6'),\n",
       " 'fact': [{'Equatorial Diameter:': '6,792 km'},\n",
       "  {'Polar Diameter:': '6,752 km'},\n",
       "  {'Mass:': '6.42 x 10^23 kg (10.7% Earth)'},\n",
       "  {'Moons:': '2 (Phobos & Deimos)'},\n",
       "  {'Orbit Distance:': '227,943,824 km (1.52 AU)'},\n",
       "  {'Orbit Period:': '687 days (1.9 years)'},\n",
       "  {'Surface Temperature:': '-153 to 20 °C'},\n",
       "  {'First Record:': '2nd millennium BC'},\n",
       "  {'Recorded By:': 'Egyptian astronomers'}],\n",
       " 'hemisphere': [{'image_url': 'http://astropedia.astrogeology.usgs.gov/download/Mars/Viking/cerberus_enhanced.tif',\n",
       "   'name': 'Cerberus Hemisphere Enhanced'},\n",
       "  {'image_url': 'http://astropedia.astrogeology.usgs.gov/download/Mars/Viking/schiaparelli_enhanced.tif',\n",
       "   'name': 'Schiaparelli Hemisphere Enhanced'},\n",
       "  {'image_url': 'http://astropedia.astrogeology.usgs.gov/download/Mars/Viking/syrtis_major_enhanced.tif',\n",
       "   'name': 'Syrtis Major Hemisphere Enhanced'},\n",
       "  {'image_url': 'http://astropedia.astrogeology.usgs.gov/download/Mars/Viking/valles_marineris_enhanced.tif',\n",
       "   'name': 'Valles Marineris Hemisphere Enhanced'}],\n",
       " 'image_url': 'https://photojournal.jpl.nasa.gov/jpeg/PIA19323.jpg',\n",
       " 'list_time': datetime.datetime(2018, 4, 17, 23, 1, 7, 39000),\n",
       " 'news': {'description': 'On May 5, millions of Californians may witness the historic first interplanetary launch from America’s West Coast.',\n",
       "  'list_date': 'April  6, 2018',\n",
       "  'title': 'Bound for Mars: Countdown to First Interplanetary Launch from California'},\n",
       " 'weather': 'Sol 2022 (April 14, 2018), Sunny, high -4C/24F, low -73C/-99F, pressure at 7.19 hPa, daylight 05:27-17:21'}"
      ]
     },
     "execution_count": 26,
     "metadata": {},
     "output_type": "execute_result"
    }
   ],
   "source": [
    "\n",
    "v_dict= fx_fetch_doc(ObjectId('5ad67cb3e7191b637c3992c6'))\n",
    "v_dict"
   ]
  },
  {
   "cell_type": "code",
   "execution_count": 27,
   "metadata": {},
   "outputs": [
    {
     "data": {
      "text/plain": [
       "[{'Equatorial Diameter:': '6,792 km'},\n",
       " {'Polar Diameter:': '6,752 km'},\n",
       " {'Mass:': '6.42 x 10^23 kg (10.7% Earth)'},\n",
       " {'Moons:': '2 (Phobos & Deimos)'},\n",
       " {'Orbit Distance:': '227,943,824 km (1.52 AU)'},\n",
       " {'Orbit Period:': '687 days (1.9 years)'},\n",
       " {'Surface Temperature:': '-153 to 20 °C'},\n",
       " {'First Record:': '2nd millennium BC'},\n",
       " {'Recorded By:': 'Egyptian astronomers'}]"
      ]
     },
     "execution_count": 27,
     "metadata": {},
     "output_type": "execute_result"
    }
   ],
   "source": [
    "v_dict['fact']"
   ]
  },
  {
   "cell_type": "code",
   "execution_count": null,
   "metadata": {
    "collapsed": true
   },
   "outputs": [],
   "source": []
  }
 ],
 "metadata": {
  "kernelspec": {
   "display_name": "Python 3",
   "language": "python",
   "name": "python3"
  },
  "language_info": {
   "codemirror_mode": {
    "name": "ipython",
    "version": 3
   },
   "file_extension": ".py",
   "mimetype": "text/x-python",
   "name": "python",
   "nbconvert_exporter": "python",
   "pygments_lexer": "ipython3",
   "version": "3.6.3"
  }
 },
 "nbformat": 4,
 "nbformat_minor": 2
}
