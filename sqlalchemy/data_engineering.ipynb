{
 "cells": [
  {
   "cell_type": "code",
   "execution_count": 1,
   "metadata": {
    "collapsed": true
   },
   "outputs": [],
   "source": [
    "import pandas as pd\n",
    "import numpy as np"
   ]
  },
  {
   "cell_type": "code",
   "execution_count": 2,
   "metadata": {},
   "outputs": [],
   "source": [
    "#loading data from cvs for inspection\n",
    "df_station = pd.read_csv('hawaii_stations.csv')\n",
    "df_measurement = pd.read_csv('hawaii_measurements.csv')"
   ]
  },
  {
   "cell_type": "code",
   "execution_count": 3,
   "metadata": {},
   "outputs": [
    {
     "data": {
      "text/html": [
       "<div>\n",
       "<style>\n",
       "    .dataframe thead tr:only-child th {\n",
       "        text-align: right;\n",
       "    }\n",
       "\n",
       "    .dataframe thead th {\n",
       "        text-align: left;\n",
       "    }\n",
       "\n",
       "    .dataframe tbody tr th {\n",
       "        vertical-align: top;\n",
       "    }\n",
       "</style>\n",
       "<table border=\"1\" class=\"dataframe\">\n",
       "  <thead>\n",
       "    <tr style=\"text-align: right;\">\n",
       "      <th></th>\n",
       "      <th>station</th>\n",
       "      <th>name</th>\n",
       "      <th>latitude</th>\n",
       "      <th>longitude</th>\n",
       "      <th>elevation</th>\n",
       "    </tr>\n",
       "  </thead>\n",
       "  <tbody>\n",
       "    <tr>\n",
       "      <th>0</th>\n",
       "      <td>USC00519397</td>\n",
       "      <td>WAIKIKI 717.2, HI US</td>\n",
       "      <td>21.27160</td>\n",
       "      <td>-157.81680</td>\n",
       "      <td>3.0</td>\n",
       "    </tr>\n",
       "    <tr>\n",
       "      <th>1</th>\n",
       "      <td>USC00513117</td>\n",
       "      <td>KANEOHE 838.1, HI US</td>\n",
       "      <td>21.42340</td>\n",
       "      <td>-157.80150</td>\n",
       "      <td>14.6</td>\n",
       "    </tr>\n",
       "    <tr>\n",
       "      <th>2</th>\n",
       "      <td>USC00514830</td>\n",
       "      <td>KUALOA RANCH HEADQUARTERS 886.9, HI US</td>\n",
       "      <td>21.52130</td>\n",
       "      <td>-157.83740</td>\n",
       "      <td>7.0</td>\n",
       "    </tr>\n",
       "    <tr>\n",
       "      <th>3</th>\n",
       "      <td>USC00517948</td>\n",
       "      <td>PEARL CITY, HI US</td>\n",
       "      <td>21.39340</td>\n",
       "      <td>-157.97510</td>\n",
       "      <td>11.9</td>\n",
       "    </tr>\n",
       "    <tr>\n",
       "      <th>4</th>\n",
       "      <td>USC00518838</td>\n",
       "      <td>UPPER WAHIAWA 874.3, HI US</td>\n",
       "      <td>21.49920</td>\n",
       "      <td>-158.01110</td>\n",
       "      <td>306.6</td>\n",
       "    </tr>\n",
       "    <tr>\n",
       "      <th>5</th>\n",
       "      <td>USC00519523</td>\n",
       "      <td>WAIMANALO EXPERIMENTAL FARM, HI US</td>\n",
       "      <td>21.33556</td>\n",
       "      <td>-157.71139</td>\n",
       "      <td>19.5</td>\n",
       "    </tr>\n",
       "    <tr>\n",
       "      <th>6</th>\n",
       "      <td>USC00519281</td>\n",
       "      <td>WAIHEE 837.5, HI US</td>\n",
       "      <td>21.45167</td>\n",
       "      <td>-157.84889</td>\n",
       "      <td>32.9</td>\n",
       "    </tr>\n",
       "    <tr>\n",
       "      <th>7</th>\n",
       "      <td>USC00511918</td>\n",
       "      <td>HONOLULU OBSERVATORY 702.2, HI US</td>\n",
       "      <td>21.31520</td>\n",
       "      <td>-157.99920</td>\n",
       "      <td>0.9</td>\n",
       "    </tr>\n",
       "    <tr>\n",
       "      <th>8</th>\n",
       "      <td>USC00516128</td>\n",
       "      <td>MANOA LYON ARBO 785.2, HI US</td>\n",
       "      <td>21.33310</td>\n",
       "      <td>-157.80250</td>\n",
       "      <td>152.4</td>\n",
       "    </tr>\n",
       "  </tbody>\n",
       "</table>\n",
       "</div>"
      ],
      "text/plain": [
       "       station                                    name  latitude  longitude  \\\n",
       "0  USC00519397                    WAIKIKI 717.2, HI US  21.27160 -157.81680   \n",
       "1  USC00513117                    KANEOHE 838.1, HI US  21.42340 -157.80150   \n",
       "2  USC00514830  KUALOA RANCH HEADQUARTERS 886.9, HI US  21.52130 -157.83740   \n",
       "3  USC00517948                       PEARL CITY, HI US  21.39340 -157.97510   \n",
       "4  USC00518838              UPPER WAHIAWA 874.3, HI US  21.49920 -158.01110   \n",
       "5  USC00519523      WAIMANALO EXPERIMENTAL FARM, HI US  21.33556 -157.71139   \n",
       "6  USC00519281                     WAIHEE 837.5, HI US  21.45167 -157.84889   \n",
       "7  USC00511918       HONOLULU OBSERVATORY 702.2, HI US  21.31520 -157.99920   \n",
       "8  USC00516128            MANOA LYON ARBO 785.2, HI US  21.33310 -157.80250   \n",
       "\n",
       "   elevation  \n",
       "0        3.0  \n",
       "1       14.6  \n",
       "2        7.0  \n",
       "3       11.9  \n",
       "4      306.6  \n",
       "5       19.5  \n",
       "6       32.9  \n",
       "7        0.9  \n",
       "8      152.4  "
      ]
     },
     "execution_count": 3,
     "metadata": {},
     "output_type": "execute_result"
    }
   ],
   "source": [
    "df_station"
   ]
  },
  {
   "cell_type": "code",
   "execution_count": 4,
   "metadata": {},
   "outputs": [
    {
     "data": {
      "text/html": [
       "<div>\n",
       "<style>\n",
       "    .dataframe thead tr:only-child th {\n",
       "        text-align: right;\n",
       "    }\n",
       "\n",
       "    .dataframe thead th {\n",
       "        text-align: left;\n",
       "    }\n",
       "\n",
       "    .dataframe tbody tr th {\n",
       "        vertical-align: top;\n",
       "    }\n",
       "</style>\n",
       "<table border=\"1\" class=\"dataframe\">\n",
       "  <thead>\n",
       "    <tr style=\"text-align: right;\">\n",
       "      <th></th>\n",
       "      <th>station</th>\n",
       "      <th>date</th>\n",
       "      <th>prcp</th>\n",
       "      <th>tobs</th>\n",
       "    </tr>\n",
       "  </thead>\n",
       "  <tbody>\n",
       "    <tr>\n",
       "      <th>0</th>\n",
       "      <td>USC00519397</td>\n",
       "      <td>2010-01-01</td>\n",
       "      <td>0.08</td>\n",
       "      <td>65</td>\n",
       "    </tr>\n",
       "    <tr>\n",
       "      <th>1</th>\n",
       "      <td>USC00519397</td>\n",
       "      <td>2010-01-02</td>\n",
       "      <td>0.00</td>\n",
       "      <td>63</td>\n",
       "    </tr>\n",
       "    <tr>\n",
       "      <th>2</th>\n",
       "      <td>USC00519397</td>\n",
       "      <td>2010-01-03</td>\n",
       "      <td>0.00</td>\n",
       "      <td>74</td>\n",
       "    </tr>\n",
       "    <tr>\n",
       "      <th>3</th>\n",
       "      <td>USC00519397</td>\n",
       "      <td>2010-01-04</td>\n",
       "      <td>0.00</td>\n",
       "      <td>76</td>\n",
       "    </tr>\n",
       "    <tr>\n",
       "      <th>4</th>\n",
       "      <td>USC00519397</td>\n",
       "      <td>2010-01-06</td>\n",
       "      <td>NaN</td>\n",
       "      <td>73</td>\n",
       "    </tr>\n",
       "  </tbody>\n",
       "</table>\n",
       "</div>"
      ],
      "text/plain": [
       "       station        date  prcp  tobs\n",
       "0  USC00519397  2010-01-01  0.08    65\n",
       "1  USC00519397  2010-01-02  0.00    63\n",
       "2  USC00519397  2010-01-03  0.00    74\n",
       "3  USC00519397  2010-01-04  0.00    76\n",
       "4  USC00519397  2010-01-06   NaN    73"
      ]
     },
     "execution_count": 4,
     "metadata": {},
     "output_type": "execute_result"
    }
   ],
   "source": [
    "df_measurement.head()"
   ]
  },
  {
   "cell_type": "code",
   "execution_count": 5,
   "metadata": {
    "collapsed": true
   },
   "outputs": [],
   "source": [
    "\n",
    "\n",
    "def fx_validate (v_dataframe , *args):\n",
    "    '''\n",
    "        Desc :    Validation of data for duplicates, nulls in dataframe for set of columns\n",
    "        Type:     Plot\n",
    "        Example:    x = fx_validate (df_station , ['latitude' , 'longitude'] , ['latitude', 'longitude', 'elevation'] , ['name'] , ['station'])\n",
    "                    print(x)\n",
    "        Output:\n",
    "            Total records in data frame = 9\n",
    "            --------------------------------\n",
    "            For [latitude, longitude] there are no duplicates.\n",
    "            --------------------------------\n",
    "            For [latitude, longitude, elevation] there are no duplicates.\n",
    "            --------------------------------\n",
    "            For [name] there are no duplicates.\n",
    "            --------------------------------\n",
    "            For [station] there are no duplicates.\n",
    "            --------------------------------\n",
    "            There are no Nulls.\n",
    "            --------------------------------\n",
    "            station is of String and max length/value is  11\n",
    "            name is of String and max length/value is  38\n",
    "            latitude is of Numeric and max length/value is  21.5213\n",
    "            longitude is of Numeric and max length/value is  -157.71139\n",
    "            elevation is of Numeric and max length/value is  306.6\n",
    "    '''   \n",
    "    # counts\n",
    "    v_fx_validate_count_star = str(len(v_dataframe))\n",
    "    v_fx_validate_message = 'Total records in data frame = ' + v_fx_validate_count_star + chr(10)\n",
    "\n",
    "    for v_fx_validate_list in args:\n",
    "        v_fx_validate_s = ''\n",
    "        v_fx_validate_List_name = ''\n",
    "        for a in v_fx_validate_list:\n",
    "            v_fx_validate_List_name  += v_fx_validate_s + a\n",
    "            v_fx_validate_s = ', '\n",
    "        v_fx_validate_List_name = '[' + v_fx_validate_List_name + ']'\n",
    "        v_fx_validate_message += '--------------------------------'+ chr(10)\n",
    "        \n",
    "        v_fx_validate_uk = str(len( v_dataframe.groupby(v_fx_validate_list)) )\n",
    "        if v_fx_validate_count_star == v_fx_validate_uk:\n",
    "            v_fx_validate_status = 'no duplicates.'\n",
    "            v_fx_validate_message += 'For '+v_fx_validate_List_name+' there are ' + v_fx_validate_status + chr(10)\n",
    "\n",
    "        else:\n",
    "            v_fx_validate_status = 'duplicates found (or probably some nulls).'\n",
    "            v_fx_validate_message += 'For '+v_fx_validate_List_name+' there are ' + v_fx_validate_status + chr(10)\n",
    "            v_fx_validate_message += 'Total distinct records in data frame for '+v_fx_validate_List_name+' key = ' + v_fx_validate_uk + chr(10)\n",
    "\n",
    "    #null checking \n",
    "    v_fx_validate_message += '--------------------------------'+ chr(10)\n",
    "    v_dataframe_dupcheck = v_dataframe.copy()\n",
    "    v_dataframe_dupcheck.dropna(how='any',inplace=True)\n",
    "    v_fx_validate_count_withnonull = str(len(v_dataframe_dupcheck))\n",
    "    if v_fx_validate_count_star == v_fx_validate_count_withnonull:\n",
    "        v_fx_validate_message += 'There are no Nulls.' + chr(10)    \n",
    "    else:\n",
    "        v_fx_validate_message += 'There are Nulls. Total records with some nulls values in columns are '+ str( int(v_fx_validate_count_star) - int(v_fx_validate_count_withnonull) ) + chr(10) \n",
    "\n",
    "    v_fx_validate_message += '--------------------------------'+ chr(10)\n",
    "    \n",
    "    colnames_numerics_only = v_dataframe.select_dtypes(include=[np.number]).columns.tolist()\n",
    "    colnames_numerics_only\n",
    "\n",
    "    for df_col_name in v_dataframe.columns:\n",
    "        \n",
    "        if df_col_name in colnames_numerics_only:\n",
    "            df_col_len = str(v_dataframe[df_col_name].max())\n",
    "            df_col_type = 'Numeric'\n",
    "        else:   \n",
    "            df_col_len = str(v_dataframe[df_col_name].str.encode(encoding='utf-8').str.len().max())\n",
    "            df_col_type = 'String'\n",
    "        \n",
    "        v_fx_validate_message += df_col_name + ' is of '+ df_col_type +' and max length/value is  '+  df_col_len + chr(10)\n",
    "        \n",
    "    return v_fx_validate_message\n"
   ]
  },
  {
   "cell_type": "code",
   "execution_count": 6,
   "metadata": {
    "collapsed": true
   },
   "outputs": [],
   "source": [
    "def fx_validate_refrential_integrity(v_data_frame_parent, v_data_frame_child, v_join_column_list ):\n",
    "    '''\n",
    "    Desc :    Check for violation of data between two data frames for refrential constraints\n",
    "    Type:     Plot\n",
    "    Example:    xx = fx_validate_refrential_integrity(df_station, df_measurement, ['station'] )\n",
    "                    print (xx)    \n",
    "    Output:\n",
    "        There are no records in child for [station] that are not in parent. Integrity passed.\n",
    "        There are no records in parent for [station] that are not in child.\n",
    "\n",
    "    '''\n",
    "    v_fx_validate_s = ''\n",
    "    v_fx_validate_List_name = ''\n",
    "    v_return_message = ''\n",
    "    for a in v_join_column_list:\n",
    "        v_fx_validate_List_name  += v_fx_validate_s + a\n",
    "        v_fx_validate_s = ', '\n",
    "    v_fx_validate_List_name = '[' + v_fx_validate_List_name + ']'\n",
    "    v_data_frame_parent['fx_validate_refrential_integrity_parent'] = 'parent'\n",
    "    v_data_frame_child['fx_validate_refrential_integrity_child'] = 'child'\n",
    "    v_df_fx_validate_refrential_integrity = pd.merge(v_data_frame_parent, v_data_frame_child, on=v_join_column_list, how='outer')\n",
    "    v_df_fx_validate_refrential_integrity_not_in_parent = v_df_fx_validate_refrential_integrity.loc[(v_df_fx_validate_refrential_integrity['fx_validate_refrential_integrity_parent'].isnull())]\n",
    "    v_df_fx_validate_refrential_integrity_not_in_child = v_df_fx_validate_refrential_integrity.loc[(v_df_fx_validate_refrential_integrity['fx_validate_refrential_integrity_child'].isnull())]\n",
    "    v_df_fx_validate_refrential_integrity_not_in_parent_count = len(v_df_fx_validate_refrential_integrity_not_in_parent)\n",
    "    v_df_fx_validate_refrential_integrity_not_in_child_count = len(v_df_fx_validate_refrential_integrity_not_in_child)\n",
    "    if v_df_fx_validate_refrential_integrity_not_in_parent_count > 0:\n",
    "        v_return_message += 'There are records '+ str(v_df_fx_validate_refrential_integrity_not_in_parent_count) +' in parent but not in child for key ' + v_fx_validate_List_name + chr(10)\n",
    "        v_return_message += 'Query data frame v_df_fx_validate_refrential_integrity_not_in_parent to get the list' + chr(10)\n",
    "    else :\n",
    "        v_return_message += 'There are no records in child for '+ v_fx_validate_List_name +' that are not in parent. Integrity passed.'+ chr(10)\n",
    "    \n",
    "    if v_df_fx_validate_refrential_integrity_not_in_child_count > 0:\n",
    "        v_return_message += 'There are records '+ str(v_df_fx_validate_refrential_integrity_not_in_child_count) +' in child but not in parent for key ' + v_fx_validate_List_name + chr(10)\n",
    "        v_return_message += 'Query data frame v_df_fx_validate_refrential_integrity_not_in_child to get the list' + chr(10)\n",
    "    else :\n",
    "        v_return_message += 'There are no records in parent for '+ v_fx_validate_List_name +' that are not in child.' + chr(10)\n",
    "    v_data_frame_parent.drop('fx_validate_refrential_integrity_parent', axis=1 ,  inplace=True)\n",
    "    v_data_frame_child.drop('fx_validate_refrential_integrity_child', axis=1 ,  inplace=True)\n",
    "    return v_return_message\n"
   ]
  },
  {
   "cell_type": "code",
   "execution_count": 7,
   "metadata": {},
   "outputs": [
    {
     "name": "stdout",
     "output_type": "stream",
     "text": [
      "Total records in data frame = 19550\n",
      "--------------------------------\n",
      "For [station, date] there are no duplicates.\n",
      "--------------------------------\n",
      "There are Nulls. Total records with some nulls values in columns are 1447\n",
      "--------------------------------\n",
      "station is of String and max length/value is  11\n",
      "date is of String and max length/value is  10\n",
      "prcp is of Numeric and max length/value is  11.53\n",
      "tobs is of Numeric and max length/value is  87\n",
      "\n"
     ]
    }
   ],
   "source": [
    "x = fx_validate (df_measurement , ['station' , 'date'] )\n",
    "print(x)"
   ]
  },
  {
   "cell_type": "code",
   "execution_count": 8,
   "metadata": {},
   "outputs": [
    {
     "name": "stdout",
     "output_type": "stream",
     "text": [
      "Total records in data frame = 9\n",
      "--------------------------------\n",
      "For [latitude, longitude] there are no duplicates.\n",
      "--------------------------------\n",
      "For [latitude, longitude, elevation] there are no duplicates.\n",
      "--------------------------------\n",
      "For [name] there are no duplicates.\n",
      "--------------------------------\n",
      "For [station] there are no duplicates.\n",
      "--------------------------------\n",
      "There are no Nulls.\n",
      "--------------------------------\n",
      "station is of String and max length/value is  11\n",
      "name is of String and max length/value is  38\n",
      "latitude is of Numeric and max length/value is  21.5213\n",
      "longitude is of Numeric and max length/value is  -157.71139\n",
      "elevation is of Numeric and max length/value is  306.6\n",
      "\n"
     ]
    }
   ],
   "source": [
    "x = fx_validate (df_station , ['latitude' , 'longitude'] , ['latitude', 'longitude', 'elevation'] , ['name'] , ['station'])\n",
    "print(x)"
   ]
  },
  {
   "cell_type": "code",
   "execution_count": 9,
   "metadata": {},
   "outputs": [
    {
     "name": "stdout",
     "output_type": "stream",
     "text": [
      "There are no records in child for [station] that are not in parent. Integrity passed.\n",
      "There are no records in parent for [station] that are not in child.\n",
      "\n"
     ]
    }
   ],
   "source": [
    "xx = fx_validate_refrential_integrity(df_station, df_measurement, ['station'] )\n",
    "print (xx)"
   ]
  },
  {
   "cell_type": "code",
   "execution_count": 10,
   "metadata": {
    "collapsed": true
   },
   "outputs": [],
   "source": [
    "##deleting nulls\n",
    "df_measurement.dropna(how='any',inplace=True)"
   ]
  },
  {
   "cell_type": "code",
   "execution_count": 11,
   "metadata": {},
   "outputs": [
    {
     "name": "stdout",
     "output_type": "stream",
     "text": [
      "Total records in data frame = 18103\n",
      "--------------------------------\n",
      "For [station, date] there are no duplicates.\n",
      "--------------------------------\n",
      "There are no Nulls.\n",
      "--------------------------------\n",
      "station is of String and max length/value is  11\n",
      "date is of String and max length/value is  10\n",
      "prcp is of Numeric and max length/value is  11.53\n",
      "tobs is of Numeric and max length/value is  87\n",
      "\n"
     ]
    }
   ],
   "source": [
    "x = fx_validate (df_measurement , ['station' , 'date'] )\n",
    "print(x)"
   ]
  },
  {
   "cell_type": "code",
   "execution_count": 12,
   "metadata": {},
   "outputs": [
    {
     "name": "stdout",
     "output_type": "stream",
     "text": [
      "There are no records in child for [station] that are not in parent. Integrity passed.\n",
      "There are no records in parent for [station] that are not in child.\n",
      "\n"
     ]
    }
   ],
   "source": [
    "xx = fx_validate_refrential_integrity(df_station, df_measurement, ['station'] )\n",
    "print (xx)"
   ]
  },
  {
   "cell_type": "code",
   "execution_count": 13,
   "metadata": {
    "collapsed": true
   },
   "outputs": [],
   "source": [
    "# creating clean data spreadsheet \n",
    "\n",
    "df_station.to_csv(\"clean_hawaii_stations.csv\", index=False, header=True)\n",
    "df_measurement.to_csv(\"clean_hawaii_measurements.csv\", index=False, header=True)"
   ]
  }
 ],
 "metadata": {
  "kernelspec": {
   "display_name": "Python 3",
   "language": "python",
   "name": "python3"
  },
  "language_info": {
   "codemirror_mode": {
    "name": "ipython",
    "version": 3
   },
   "file_extension": ".py",
   "mimetype": "text/x-python",
   "name": "python",
   "nbconvert_exporter": "python",
   "pygments_lexer": "ipython3",
   "version": "3.6.3"
  }
 },
 "nbformat": 4,
 "nbformat_minor": 2
}
